{
  "nbformat": 4,
  "nbformat_minor": 0,
  "metadata": {
    "colab": {
      "provenance": []
    },
    "kernelspec": {
      "name": "python3",
      "display_name": "Python 3"
    },
    "language_info": {
      "name": "python"
    }
  },
  "cells": [
    {
      "cell_type": "markdown",
      "source": [
        "**DISTRIBUTED DATA PROCESSING**"
      ],
      "metadata": {
        "id": "HljP4R-tcVII"
      }
    },
    {
      "cell_type": "markdown",
      "source": [
        "**USE APACHE SPARK TO ANALYZE A LARGE DATASET, IMPLEMENTING OPERATIONS LIKE FILTERING, GROUPING, AND AGGREGATIONS.**"
      ],
      "metadata": {
        "id": "dx1mp8dKcuip"
      }
    },
    {
      "cell_type": "code",
      "source": [
        "!pip install pyspark"
      ],
      "metadata": {
        "colab": {
          "base_uri": "https://localhost:8080/"
        },
        "id": "pM7sI9fQg9ak",
        "outputId": "e790ec32-5920-4d72-d27b-c1afb22234bb"
      },
      "execution_count": 3,
      "outputs": [
        {
          "output_type": "stream",
          "name": "stdout",
          "text": [
            "Requirement already satisfied: pyspark in /usr/local/lib/python3.11/dist-packages (3.5.4)\n",
            "Requirement already satisfied: py4j==0.10.9.7 in /usr/local/lib/python3.11/dist-packages (from pyspark) (0.10.9.7)\n"
          ]
        }
      ]
    },
    {
      "cell_type": "code",
      "source": [
        "from pyspark.sql import SparkSession\n",
        "from pyspark.sql.functions import col, sum, avg, count\n",
        "\n",
        "spark = SparkSession.builder.appName(\"LargeDatasetAnalysis\").getOrCreate()"
      ],
      "metadata": {
        "id": "6zksz-29hEv7"
      },
      "execution_count": 4,
      "outputs": []
    },
    {
      "cell_type": "code",
      "source": [
        "data_file = \"/content/GOOG.csv\" # Update with your file path\n",
        "try:\n",
        "  df = spark.read.csv(data_file, header=True, inferSchema=True)\n",
        "except Exception as e:\n",
        "  print(f\"Error loading data: {e}\")\n",
        "  print(f\"Ensure file path is correct and dataset exists at: {data_file}\")\n",
        "  spark.stop()\n",
        "  exit()"
      ],
      "metadata": {
        "id": "9VXbJ6sxhM9Q"
      },
      "execution_count": 5,
      "outputs": []
    },
    {
      "cell_type": "code",
      "source": [
        "df.printSchema()"
      ],
      "metadata": {
        "colab": {
          "base_uri": "https://localhost:8080/"
        },
        "id": "CjnvsokahWKe",
        "outputId": "9a84587c-0816-427b-9858-033c9ea6573e"
      },
      "execution_count": 6,
      "outputs": [
        {
          "output_type": "stream",
          "name": "stdout",
          "text": [
            "root\n",
            " |-- Date: string (nullable = true)\n",
            " |-- Open: double (nullable = true)\n",
            " |-- High: double (nullable = true)\n",
            " |-- Low: double (nullable = true)\n",
            " |-- Close: double (nullable = true)\n",
            " |-- Adj Close: double (nullable = true)\n",
            " |-- Volume: integer (nullable = true)\n",
            "\n"
          ]
        }
      ]
    },
    {
      "cell_type": "code",
      "source": [
        "# 1. Filtering\n",
        "# Filter rows where a specific column value is greater than a certain threshold\n",
        "filtered_df = df.filter(col(\"Adj Close\") > 1400)\n",
        "print(\"Filtered Data:\")\n",
        "filtered_df.show()"
      ],
      "metadata": {
        "colab": {
          "base_uri": "https://localhost:8080/"
        },
        "id": "36QmCK9Ohci6",
        "outputId": "120354c0-cb85-4447-c959-bdd8b436a0a2"
      },
      "execution_count": 10,
      "outputs": [
        {
          "output_type": "stream",
          "name": "stdout",
          "text": [
            "Filtered Data:\n",
            "+----------+-----------+-----------+-----------+-----------+-----------+-------+\n",
            "|      Date|       Open|       High|        Low|      Close|  Adj Close| Volume|\n",
            "+----------+-----------+-----------+-----------+-----------+-----------+-------+\n",
            "|20-05-2020|1389.579956|1410.420044|    1387.25|1406.719971|1406.719971|1655400|\n",
            "|21-05-2020|     1408.0| 1415.48999|1393.449951|1402.800049|1402.800049|1385000|\n",
            "|22-05-2020|1396.709961| 1412.76001|1391.829956|1410.420044|1410.420044|1309400|\n",
            "|26-05-2020| 1437.27002|     1441.0|1412.130005| 1417.02002| 1417.02002|2060600|\n",
            "|27-05-2020|    1417.25| 1421.73999|1391.290039|1417.839966|1417.839966|1685800|\n",
            "|20-05-2020|1396.859985|1440.839966|     1396.0| 1416.72998| 1416.72998|1692200|\n",
            "|21-05-2020|1416.939941|1432.569946|1413.349976|1428.920044|1428.920044|1838100|\n",
            "|22-05-2020|1418.390015|1437.959961|     1418.0|1431.819946|1431.819946|1217100|\n",
            "|02-06-2020|1430.550049|1439.609985|1418.829956|1439.219971|1439.219971|1278100|\n",
            "|03-06-2020|1438.300049|1446.552002|1429.776978|1436.380005|1436.380005|1256200|\n",
            "|04-06-2020|1430.400024|1438.959961| 1404.72998|1412.180054|1412.180054|1484300|\n",
            "|05-06-2020|1413.170044|1445.050049|     1406.0|1438.390015|1438.390015|1734900|\n",
            "|08-06-2020|1422.339966| 1447.98999|1422.339966|1446.609985|1446.609985|1404200|\n",
            "|09-06-2020|1445.359985|     1468.0|1443.209961|1456.160034|1456.160034|1409200|\n",
            "|10-06-2020|1459.540039|1474.259033| 1456.27002|1465.849976|1465.849976|1525200|\n",
            "|11-06-2020| 1442.47998|1454.474976|     1402.0|1403.839966|1403.839966|1991300|\n",
            "|12-06-2020| 1428.48999|     1437.0| 1386.02002|1413.180054|1413.180054|1944200|\n",
            "|15-06-2020|1390.800049|1424.800049|1387.920044|1419.849976|1419.849976|1503900|\n",
            "|16-06-2020|1445.219971| 1455.02002|1425.900024|1442.719971|1442.719971|1709200|\n",
            "|17-06-2020|1447.160034|     1460.0|1431.380005|1451.119995|1451.119995|1548300|\n",
            "+----------+-----------+-----------+-----------+-----------+-----------+-------+\n",
            "only showing top 20 rows\n",
            "\n"
          ]
        }
      ]
    },
    {
      "cell_type": "code",
      "source": [
        "# 2. Grouping\n",
        "# Group the data by a specific column and calculate the sum of another column\n",
        "grouped_df = df.groupBy(\"High\").agg(sum(\"Open\")) # Replace with your columns\n",
        "# Alternative aggregation functions\n",
        "grouped_df = df.groupBy(\"High\").agg(avg(\"Open\"), count(\"Open\"))\n",
        "print(\"Grouped Data:\")\n",
        "grouped_df.show()"
      ],
      "metadata": {
        "colab": {
          "base_uri": "https://localhost:8080/"
        },
        "id": "cSyo5z2ZhmoX",
        "outputId": "301029f3-1544-418d-94dd-9d8560c97cee"
      },
      "execution_count": 11,
      "outputs": [
        {
          "output_type": "stream",
          "name": "stdout",
          "text": [
            "Grouped Data:\n",
            "+-----------+-----------+-----------+\n",
            "|       High|  avg(Open)|count(Open)|\n",
            "+-----------+-----------+-----------+\n",
            "|    1537.25|1510.339966|          1|\n",
            "|1562.469971|1526.180054|          1|\n",
            "|1482.410034|1469.300049|          1|\n",
            "|1410.420044|1389.579956|          1|\n",
            "|     1510.0|1492.439941|          1|\n",
            "|1474.259033|1459.540039|          1|\n",
            "| 1421.73999|    1417.25|          1|\n",
            "|1440.839966|1396.859985|          1|\n",
            "| 1447.98999|1422.339966|          1|\n",
            "|1447.800049|     1444.0|          1|\n",
            "|1522.719971|1506.449951|          1|\n",
            "|1438.959961|1430.400024|          1|\n",
            "|1505.880005|1494.319946|          1|\n",
            "| 1526.47998|1525.180054|          1|\n",
            "|     1437.0| 1428.48999|          1|\n",
            "|1433.449951|1431.390015|          1|\n",
            "|     1443.0|1411.099976|          1|\n",
            "|     1570.0|     1560.5|          1|\n",
            "|1543.829956|1506.150024|          1|\n",
            "|1570.290039| 1515.26001|          1|\n",
            "+-----------+-----------+-----------+\n",
            "only showing top 20 rows\n",
            "\n"
          ]
        }
      ]
    },
    {
      "cell_type": "code",
      "source": [
        "# 3. Aggregations\n",
        "# Calculate the total sum, average, and count of a specific column\n",
        "total_sum = df.select(sum(\"Close\")).collect()[0][0] # Replace with your column\n",
        "average = df.select(avg(\"Close\")).collect()[0][0]\n",
        "total_count = df.count()\n",
        "print(f\"Total Sum: {total_sum}\")\n",
        "print(f\"Average: {average}\")\n",
        "print(f\"Total Count: {total_count}\")"
      ],
      "metadata": {
        "colab": {
          "base_uri": "https://localhost:8080/"
        },
        "id": "CwNwV8EGhwk1",
        "outputId": "45d13528-46d9-43b7-efbd-0f5ff95d5be8"
      },
      "execution_count": 12,
      "outputs": [
        {
          "output_type": "stream",
          "name": "stdout",
          "text": [
            "Total Sum: 94223.05945000003\n",
            "Average: 1472.2353039062505\n",
            "Total Count: 64\n"
          ]
        }
      ]
    },
    {
      "cell_type": "code",
      "source": [
        "spark.stop()"
      ],
      "metadata": {
        "id": "lRvcU0E8iNRO"
      },
      "execution_count": 13,
      "outputs": []
    }
  ]
}